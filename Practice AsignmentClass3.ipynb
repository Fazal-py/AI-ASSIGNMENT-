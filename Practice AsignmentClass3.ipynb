{
 "cells": [
  {
   "cell_type": "markdown",
   "id": "f6519aad",
   "metadata": {},
   "source": [
    "# User input"
   ]
  },
  {
   "cell_type": "raw",
   "id": "948191fe",
   "metadata": {},
   "source": [
    "1. Take a sentence input from user using input function. Count occurence of a particular character/word in the sentence and print the message that the character appear this many times in the sentence.\n",
    "Like if user inputs> \"My name is Sana. I am an undergraduate student. I am learning Artificial Intellegence in PIAIC\"\n",
    "Your output should be:\n",
    "    I appears 5 times in your sentence\n",
    "Hint: nahi batounga use string methods.\n",
    "Note: Sana is a boy. His full name is SanaUllah😄"
   ]
  },
  {
   "cell_type": "code",
   "execution_count": 7,
   "id": "2c50c720",
   "metadata": {},
   "outputs": [
    {
     "name": "stdout",
     "output_type": "stream",
     "text": [
      "Enter any introductory sentence about yoursself: My name is Fazal. I am an under grad student. I am enrolled in Artificial intelligence in PIAIC.\n",
      "n  -  9\n",
      "a  -  8\n",
      "m  -  3\n",
      "e  -  8\n",
      "i  -  8\n",
      "s  -  2\n",
      "l  -  6\n",
      ".  -  3\n",
      "I  -  4\n",
      "u  -  2\n",
      "d  -  4\n",
      "r  -  4\n",
      "g  -  2\n",
      "t  -  4\n",
      "A  -  2\n",
      "c  -  2\n"
     ]
    }
   ],
   "source": [
    "sentence= input(\"Enter any introductory sentence about yoursself: \")\n",
    "\n",
    "for i in range(0, len(sentence)):  \n",
    "    count = 1;  \n",
    "    for j in range(i+1, len(sentence)):  \n",
    "        if(sentence[i] == sentence[j] and sentence[i] != ' '):  \n",
    "            count = count + 1;  \n",
    "            sentence = sentence[:j] + '0' + sentence[j+1:];  \n",
    "    \n",
    "    if(count > 1 and sentence[i] != '0'):  \n",
    "        print(sentence[i],\" - \",count);\n"
   ]
  },
  {
   "cell_type": "raw",
   "id": "bf6c3672",
   "metadata": {},
   "source": [
    "2. Take a number input from user and print the square of that number. \n",
    "\n",
    "if a user inputs 10 Your output should be like:\n",
    "    The square of 10 is 100\n",
    "if a user inputs 5 Your output should be like:\n",
    "    The square of 5 is 25\n",
    "if a user inputs 2 Your output should be like:\n",
    "    The square of 2 is 4\n"
   ]
  },
  {
   "cell_type": "code",
   "execution_count": 2,
   "id": "bbc1fb56",
   "metadata": {},
   "outputs": [
    {
     "name": "stdout",
     "output_type": "stream",
     "text": [
      "Enter any number: 12\n",
      "The square of entered number 12 is 144\n"
     ]
    }
   ],
   "source": [
    "num= int(input(\"Enter any number: \"))\n",
    "sq= num**2\n",
    "print (f\"The square of entered number {num} is {sq}\")\n"
   ]
  },
  {
   "cell_type": "raw",
   "id": "0da0f529",
   "metadata": {},
   "source": [
    "3. Take two inputs from user using two input functions add these two numbers and print the result.\n",
    "For example if a user inputs 10 in first input, 20 in second input then your output mustbe like:\n",
    "    The sum of 10 and 20 is 30\n",
    "    \n",
    "For example if a user inputs 12 in first input, 30 in second input then your output mustbe like:\n",
    "    The sum of 12 and 30 is 42\n",
    "\n",
    "For example if a user inputs 100 in first input, 200 in second input then your out put mustbe like:\n",
    "    The sum of 100 and 200 is 300"
   ]
  },
  {
   "cell_type": "code",
   "execution_count": 3,
   "id": "25e90606",
   "metadata": {},
   "outputs": [
    {
     "name": "stdout",
     "output_type": "stream",
     "text": [
      "Enter any number: 12\n",
      "Enter any number: 12\n",
      "The sum of 12 & 12 is 24\n"
     ]
    }
   ],
   "source": [
    "num1=int(input(\"Enter any number: \"))\n",
    "num2=int(input(\"Enter any number: \"))\n",
    "total= num1+num2\n",
    "\n",
    "print (f'The sum of {num1} & {num2} is {total}')"
   ]
  },
  {
   "cell_type": "raw",
   "id": "f957eb50",
   "metadata": {},
   "source": [
    "4. Format a string to display a card like string:\n",
    "    \n",
    "            Presidential Initiative for AI & Computing\n",
    "                          ID CARD\n",
    "            Student Name   : Asad Ali\n",
    "            Father Name    : Amjad Ali\n",
    "            Date of Birth  : 01-01-2000\n",
    "            Course Enrolled: Artificial Intelligence\n",
    "            Batch          : 2022\n",
    "            Day            : Saturday \n",
    "            Centre         : Sir Syed University of Engg and Technology\n",
    "                \n",
    "Note: all the field values must be taken as user inputs and stored in variable"
   ]
  },
  {
   "cell_type": "code",
   "execution_count": 6,
   "id": "0f2d4d2d",
   "metadata": {},
   "outputs": [
    {
     "name": "stdout",
     "output_type": "stream",
     "text": [
      "Enter your name: Fazal Abbas \n",
      "Enter Father's name: Shakil haider\n",
      "Enter your date of birth: 25-1-2005\n",
      "Enter your course name: Artificial Intelligence\n",
      "Enter your batch name: 2022\n",
      "Enter your class day: Saturday\n",
      "Enter your institute name: SSUET\n",
      "\n",
      "       Presidential Initiative for AI & Computing\n",
      "                          ID\n",
      "---------------------------------------------------------\n",
      "    Student Name  : Fazal Abbas \n",
      "    Father Name   : Shakil haider \n",
      "    Date of Birth : 25-1-2005\n",
      "    Course        : Artificial Intelligence\n",
      "    Batch         : 2022\n",
      "    Day           : Saturday\n",
      "    Institute     : SSUET\n"
     ]
    }
   ],
   "source": [
    "stud=input(\"Enter your name: \")\n",
    "father=input(\"Enter Father's name: \")\n",
    "d_o_b=(input(\"Enter your date of birth: \"))\n",
    "course=input(\"Enter your course name: \")\n",
    "batch= input(\"Enter your batch : \")\n",
    "day= input(\"Enter your class day: \")\n",
    "inst= input(\"Enter your institute name: \")\n",
    "\n",
    "print (f\"\"\"\n",
    "       Presidential Initiative for AI & Computing\n",
    "                          ID\n",
    "---------------------------------------------------------\n",
    "    Student Name  : {stud}\n",
    "    Father Name   : {father} \n",
    "    Date of Birth : {d_o_b}\n",
    "    Course        : {course}\n",
    "    Batch         : {batch}\n",
    "    Day           : {day}\n",
    "    Institute     : {inst}\"\"\")"
   ]
  }
 ],
 "metadata": {
  "kernelspec": {
   "display_name": "Python 3 (ipykernel)",
   "language": "python",
   "name": "python3"
  },
  "language_info": {
   "codemirror_mode": {
    "name": "ipython",
    "version": 3
   },
   "file_extension": ".py",
   "mimetype": "text/x-python",
   "name": "python",
   "nbconvert_exporter": "python",
   "pygments_lexer": "ipython3",
   "version": "3.9.12"
  }
 },
 "nbformat": 4,
 "nbformat_minor": 5
}
