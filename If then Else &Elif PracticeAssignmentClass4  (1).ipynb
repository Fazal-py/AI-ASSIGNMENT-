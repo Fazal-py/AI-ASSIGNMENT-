{
 "cells": [
  {
   "cell_type": "raw",
   "metadata": {
    "id": "8rksu2_jMVjQ"
   },
   "source": [
    "1) A company decided to give bonus of 5% to employee if his/her year of service is more than 5 years.\n",
    "Ask user for their salary and year of service and print the net bonus amount."
   ]
  },
  {
   "cell_type": "code",
   "execution_count": 1,
   "metadata": {
    "id": "_GRPHPiLMVjX"
   },
   "outputs": [
    {
     "name": "stdout",
     "output_type": "stream",
     "text": [
      "your salary>>>150000\n",
      "6\n",
      "5\n"
     ]
    }
   ],
   "source": [
    "years_of_service=6\n",
    "years_reqd_for_bonus= 5\n",
    "salary=int(input(\"your salary>>>\"))\n",
    "print (years_of_service)\n",
    "print (years_reqd_for_bonus)\n"
   ]
  },
  {
   "cell_type": "code",
   "execution_count": 2,
   "metadata": {
    "id": "3kDSFTKdMcqZ"
   },
   "outputs": [
    {
     "name": "stdout",
     "output_type": "stream",
     "text": [
      "congrats you will be given a bonus\n",
      "bonus= 7500.0\n"
     ]
    }
   ],
   "source": [
    "if years_of_service>years_reqd_for_bonus:\n",
    "    print (\"congrats you will be given a bonus\")\n",
    "    print (\"bonus=\",salary*5/100)\n",
    "else:\n",
    "    print (\"you are not eligible for a bonus\")\n",
    "    "
   ]
  },
  {
   "cell_type": "markdown",
   "metadata": {
    "id": "iXt5RVcjMVja"
   },
   "source": [
    "2) Write a program to check whether a person is eligible for voting or not. (accept age from user)"
   ]
  },
  {
   "cell_type": "code",
   "execution_count": 2,
   "metadata": {
    "id": "jXVCvia3MVjh"
   },
   "outputs": [
    {
     "name": "stdout",
     "output_type": "stream",
     "text": [
      "Tell me your age>17\n",
      "17\n",
      "18\n"
     ]
    }
   ],
   "source": [
    "age = input(\"Tell me your age>\")\n",
    "print(age)\n",
    "age_reqd = 18\n",
    "print (age_reqd)"
   ]
  },
  {
   "cell_type": "code",
   "execution_count": 12,
   "metadata": {},
   "outputs": [
    {
     "name": "stdout",
     "output_type": "stream",
     "text": [
      "Tell me your age>17\n",
      "person is not eligible for voting\n"
     ]
    }
   ],
   "source": [
    "age = int(input(\"Tell me your age>\"))\n",
    "age_reqd = 18\n",
    "\n",
    "if age > age_reqd:\n",
    "    print ('person is not eligible for voting')\n",
    "else :\n",
    "    print ('person is not eligible for voting')"
   ]
  },
  {
   "cell_type": "markdown",
   "metadata": {
    "id": "IkNM7QpCMVjj"
   },
   "source": [
    "\n",
    "3) Write a program to check whether a number entered by user is even or odd."
   ]
  },
  {
   "cell_type": "code",
   "execution_count": 27,
   "metadata": {},
   "outputs": [
    {
     "name": "stdout",
     "output_type": "stream",
     "text": [
      "type any number>>9\n",
      "the number provided is odd\n"
     ]
    }
   ],
   "source": [
    "number= int(input(\"type any number>>\"))\n",
    "if number%2==0:\n",
    "    print('the number provided is even')\n",
    "else:\n",
    "    print ('the number provided is odd')"
   ]
  },
  {
   "cell_type": "code",
   "execution_count": null,
   "metadata": {
    "id": "-GxviwByMVjl"
   },
   "outputs": [],
   "source": [
    "#Type your code here"
   ]
  },
  {
   "cell_type": "markdown",
   "metadata": {
    "id": "_jEHjkfdMVjm"
   },
   "source": [
    "4) Write a program to check whether a number is divisible by 7 or not.\n",
    "Show Answer"
   ]
  },
  {
   "cell_type": "code",
   "execution_count": 24,
   "metadata": {
    "id": "IRNXyG1GMVjo"
   },
   "outputs": [
    {
     "name": "stdout",
     "output_type": "stream",
     "text": [
      "type a number203\n",
      "yes, the number is divisible by 7\n"
     ]
    }
   ],
   "source": [
    "number= int(input('type a number'))\n",
    "\n",
    "if number%7==0:\n",
    "    print(\"yes, the number is divisible by 7\")\n",
    "else:\n",
    "    print(\"no, the number is not divisible by 7\")"
   ]
  },
  {
   "cell_type": "raw",
   "metadata": {
    "id": "XxfyVe4kMVjp"
   },
   "source": [
    "5) Write a program to display \n",
    "\"Hello\" if a number entered by user is a multiple of five , otherwise print \"Bye\"."
   ]
  },
  {
   "cell_type": "code",
   "execution_count": 13,
   "metadata": {
    "id": "Ixnz4R4TMVjr"
   },
   "outputs": [
    {
     "name": "stdout",
     "output_type": "stream",
     "text": [
      "type a number>155\n",
      "Hello\n",
      "Hello\n",
      "Hello\n",
      "Hello\n",
      "Hello\n",
      "\n"
     ]
    }
   ],
   "source": [
    "number= int(input('type a number>'))\n",
    "if number%5==0:\n",
    "    print (\"Hello\\n\"*5)\n",
    "else:\n",
    "    print ('bye')"
   ]
  },
  {
   "cell_type": "raw",
   "metadata": {
    "id": "qfzRUUwOMVjs"
   },
   "source": [
    "6) Write a program to calculate the electricity bill (accept number of unit from user) according to the following criteria :\n",
    "     Unit                                                     Price  \n",
    "uptp 100 units                                             no charge\n",
    "Next 200 units                                              Rs 5 per unit\n",
    "After 200 units                                             Rs 10 per unit\n",
    "(For example if input unit is 350 than total bill amount is Rs.2000\n",
    "(For example if input unit is 97 than total bill amount is Rs.0\n",
    "(For example if input unit is 150 than total bill amount is Rs.250"
   ]
  },
  {
   "cell_type": "code",
   "execution_count": 1,
   "metadata": {
    "id": "1BY1oAIpMVju"
   },
   "outputs": [
    {
     "name": "stdout",
     "output_type": "stream",
     "text": [
      "enter units650\n",
      "your total bill is Rs.5000\n"
     ]
    }
   ],
   "source": [
    "units= int(input(\"enter units\"))\n",
    "price=0\n",
    "\n",
    "if units<=100:\n",
    "    price=0\n",
    "elif units<=200:\n",
    "    price=(units-100)*5\n",
    "elif units> 200:\n",
    "    price= (units-200)*10+500\n",
    "    \n",
    "print(f'your total bill is Rs.{price}')"
   ]
  },
  {
   "cell_type": "raw",
   "metadata": {
    "id": "msAIDMRDMVjv"
   },
   "source": [
    "7) Write a program to display the last digit of a number.\n"
   ]
  },
  {
   "cell_type": "code",
   "execution_count": 32,
   "metadata": {
    "id": "VQwLuGzbMVjv"
   },
   "outputs": [
    {
     "name": "stdout",
     "output_type": "stream",
     "text": [
      "enter any number607\n",
      "7\n"
     ]
    }
   ],
   "source": [
    "number= int(input(\"enter any number\"))\n",
    "last_digit= number%10\n",
    "\n",
    "print (last_digit)"
   ]
  },
  {
   "cell_type": "markdown",
   "metadata": {
    "id": "UeLHzVZ_MVjw"
   },
   "source": [
    "\n",
    "Q8. Write a program to check whether the last digit of a number( entered by user ) is \n",
    "divisible by 3 or not."
   ]
  },
  {
   "cell_type": "code",
   "execution_count": 35,
   "metadata": {
    "id": "KiQ5wnc6MVjx"
   },
   "outputs": [
    {
     "name": "stdout",
     "output_type": "stream",
     "text": [
      "enter any number16\n",
      "6\n",
      "the enterred number is divisible by 3\n"
     ]
    }
   ],
   "source": [
    "number= int(input(\"enter any number\"))\n",
    "last_digit= number%10\n",
    "print (last_digit)\n",
    "if last_digit %3==0:\n",
    "    print ('the enterred number is divisible by 3')\n",
    "else:\n",
    "    print('the enterred number is not divisible by 3')"
   ]
  },
  {
   "cell_type": "raw",
   "metadata": {
    "id": "CR4sMmRgMVjy"
   },
   "source": [
    "9) Take values of length and breadth of a rectangle from user and check if it is square or not."
   ]
  },
  {
   "cell_type": "code",
   "execution_count": 39,
   "metadata": {
    "id": "Oj1MT5fCMVjy"
   },
   "outputs": [
    {
     "name": "stdout",
     "output_type": "stream",
     "text": [
      "enter length17\n",
      "enter breadth15\n",
      "17\n",
      "15\n",
      "the object is rectangle\n"
     ]
    }
   ],
   "source": [
    "length=int(input('enter length'))\n",
    "breadth=int(input('enter breadth'))\n",
    "print (length)\n",
    "print (breadth)\n",
    "\n",
    "if length-breadth==0:\n",
    "    print ('the object is square')\n",
    "else:\n",
    "    print ('the object is rectangle')\n"
   ]
  },
  {
   "cell_type": "raw",
   "metadata": {
    "id": "B2e5VYbiMVjz"
   },
   "source": [
    "10) Take two int values from user and print greatest among them."
   ]
  },
  {
   "cell_type": "code",
   "execution_count": 44,
   "metadata": {
    "id": "LyYYL78HMVj0"
   },
   "outputs": [
    {
     "name": "stdout",
     "output_type": "stream",
     "text": [
      "enter any value12\n",
      "enter any value34\n",
      "the largest number is = 34\n"
     ]
    }
   ],
   "source": [
    "int1= int(input('enter any value'))\n",
    "int2= int(input('enter any value'))\n",
    "\n",
    "if int1>=int2:\n",
    "    greatest= int1\n",
    "elif int2>=int1:\n",
    "    greatest= int2\n",
    "print ('the largest number is =', greatest)"
   ]
  },
  {
   "cell_type": "raw",
   "metadata": {
    "id": "R9gMEjdQMVj1"
   },
   "source": [
    "11) A shop will give discount of 10% if the cost of purchased quantity is more than 1000.\n",
    "Ask user for quantity\n",
    "Suppose, one unit will cost 100.\n",
    "Judge and print total cost for user."
   ]
  },
  {
   "cell_type": "code",
   "execution_count": 3,
   "metadata": {
    "id": "hjvEnOzxMVj2"
   },
   "outputs": [
    {
     "name": "stdout",
     "output_type": "stream",
     "text": [
      "enter number of units:116\n",
      "10440.0\n"
     ]
    }
   ],
   "source": [
    "units= int(input(\"enter number of units:\"))\n",
    "price_per_unit= 100\n",
    "\n",
    "totalbill=units*price_per_unit\n",
    "\n",
    "if totalbill>=1000:\n",
    "    totalbill-=totalbill*.10\n",
    "    \n",
    "print (totalbill)"
   ]
  },
  {
   "cell_type": "raw",
   "metadata": {
    "id": "yqYL7FZeMVj3"
   },
   "source": [
    "12) A school has following rules for grading system:\n",
    "\n",
    "a. Below 25 - F\n",
    "\n",
    "b. 25 to 45 - E\n",
    "\n",
    "c. 45 to 50 - D\n",
    "\n",
    "d. 50 to 60 - C\n",
    "\n",
    "e. 60 to 80 - B\n",
    "\n",
    "f. Above 80 - \n",
    "\n",
    "Ask user to enter marks and print the corresponding grade."
   ]
  },
  {
   "cell_type": "code",
   "execution_count": 10,
   "metadata": {
    "id": "he_r-bpOMVj4"
   },
   "outputs": [
    {
     "name": "stdout",
     "output_type": "stream",
     "text": [
      "enter your total marks obtained500\n",
      " your percentage is 100 & your grade is A*\n"
     ]
    }
   ],
   "source": [
    "marksobt= int(input(\"enter your total marks obtained\"))\n",
    "totalmarks=500\n",
    "percent= int(marksobt/totalmarks*100)\n",
    "grade = None\n",
    "\n",
    "if percent >=80:\n",
    "    grade = \"A*\"\n",
    "elif percent >=70:\n",
    "    grade = \"A\"\n",
    "elif percent >=60:\n",
    "    grade = \"B\"\n",
    "elif percent >=50:\n",
    "    grade = \"C\"\n",
    "elif percent >=45:\n",
    "    grade = \"D\"\n",
    "elif percent >=25:\n",
    "    grade = \"E\"\n",
    "else :\n",
    "    grade = \"Fail\"\n",
    "\n",
    "print (f' your percentage is {percent} & your grade is {grade}')\n",
    "    "
   ]
  },
  {
   "cell_type": "raw",
   "metadata": {
    "id": "IUJjt9NbMVj4"
   },
   "source": [
    "13) Take input of age of 3 people by user and determine oldest and youngest among them."
   ]
  },
  {
   "cell_type": "code",
   "execution_count": 22,
   "metadata": {
    "id": "vlre5Ck0MVj4"
   },
   "outputs": [
    {
     "name": "stdout",
     "output_type": "stream",
     "text": [
      "enter age:17\n",
      "enter age:19\n",
      "enter age:11\n",
      "the youngest age is: 11, The oldest age is: 19\n"
     ]
    }
   ],
   "source": [
    "age1= int(input('enter age:'))\n",
    "age2= int(input('enter age:'))\n",
    "age3= int(input('enter age:'))\n",
    "\n",
    "if age1>=age2 and age1>=age3:\n",
    "    oldest=age1\n",
    "elif age2>=age1 and age2>=age3:\n",
    "    oldest=age2\n",
    "elif age3>=age1 and age3>=age1:\n",
    "    oldest=age3\n",
    "\n",
    "if age1<=age2 and age1<=age3:\n",
    "    youngest=age1\n",
    "elif age2<=age1 and age2<=age3:\n",
    "    youngest=age2\n",
    "elif age3<=age1 and age3<=age1:\n",
    "    youngest=age3\n",
    "\n",
    "print (f\"\"\"the youngest age is: {youngest}, The oldest age is: {oldest}\"\"\")"
   ]
  },
  {
   "cell_type": "raw",
   "metadata": {
    "id": "Zc9ovDhsMVj5"
   },
   "source": [
    "14)A student will not be allowed to sit in exam if his/her attendence is less than 75%.\n",
    "\n",
    "Take following input from user\n",
    "\n",
    "Number of classes held\n",
    "\n",
    "Number of classes attended.\n",
    "\n",
    "And print\n",
    "\n",
    "percentage of class attended\n",
    "\n",
    "Is student is allowed to sit in exam or not.\n"
   ]
  },
  {
   "cell_type": "code",
   "execution_count": 6,
   "metadata": {
    "id": "rseYum2_MVj6"
   },
   "outputs": [
    {
     "name": "stdout",
     "output_type": "stream",
     "text": [
      "Enter total number of classes held=125\n",
      "Enter total number of classes you attended=125\n",
      "your attendance % is =  100.0\n",
      "you are allowed to appear in exams, GOOD LUCK\n"
     ]
    }
   ],
   "source": [
    "number_of_classes_held= int(input(\"Enter total number of classes held=\"))\n",
    "number_of_classes_attended= int(input('Enter total number of classes you attended='))\n",
    "percent=number_of_classes_attended/number_of_classes_held*100\n",
    "\n",
    "if percent<=75:\n",
    "    print ('your attendance % is =', percent)\n",
    "    print('you are not allowed to appear in exams')\n",
    "else:\n",
    "    print ('your attendance % is = ', percent)\n",
    "    print('you are allowed to appear in exams, GOOD LUCK')\n",
    "    \n",
    "    \n",
    "    \n",
    "  \n",
    "    \n"
   ]
  },
  {
   "cell_type": "raw",
   "metadata": {
    "id": "58UPPHAOMVj6"
   },
   "source": [
    "15) Modify the above question to allow student to sit if he/she has medical cause. Ask user if he/she has medical cause or not ( 'Y' or 'N' ) and print accordingly."
   ]
  },
  {
   "cell_type": "code",
   "execution_count": 20,
   "metadata": {
    "id": "lDi-xLzTMVj7"
   },
   "outputs": [
    {
     "name": "stdout",
     "output_type": "stream",
     "text": [
      "Enter total number of classes=150\n",
      "Enter total number of classes you attended=125\n",
      "do you have any medical cause: \n",
      "\n",
      "           Total classes: 150\n",
      "           Total classes attended: 125\n",
      "           Percentage: 83.33333333333334\n",
      "           Congrats you've qualified for the exams. GOOD LUCK.\n",
      "           \n"
     ]
    }
   ],
   "source": [
    "Total_classes= int(input(\"Enter total number of classes=\"))\n",
    "number_of_classes_attended= int(input('Enter total number of classes you attended='))\n",
    "percent=number_of_classes_attended/Total_classes*100\n",
    "medical_cause= input(\"do you have any medical cause: \")\n",
    "medical_cause == \"Y\".lower()\n",
    "\n",
    "\n",
    "if percent>=75:\n",
    "    print (f\"\"\"\n",
    "           Total classes: {Total_classes}\n",
    "           Total classes attended: {number_of_classes_attended}\n",
    "           Percentage: {percent}\n",
    "           Congrats you've qualified for the exams. GOOD LUCK.\n",
    "           \"\"\")\n",
    "elif medical_cause == \"Y\".lower() and percent <= 75:\n",
    "    print (f\"\"\"\n",
    "           Total classes: {Total_classes}\n",
    "           Total classes attended: {number_of_classes_attended}\n",
    "           Percentage: {percent}\n",
    "           Medical cause: {medical_cause}\n",
    "           Congrats you've qualified for the exams despite of your low attendace due to your medical cause, \n",
    "           We Hope you're fine now. GOOD LUCK. \n",
    "           \"\"\")\n",
    "else:\n",
    "    print (\"you are not eligible for the exams. Better luck next time.\")"
   ]
  },
  {
   "cell_type": "raw",
   "metadata": {
    "id": "kJtSy1EoMVj7"
   },
   "source": [
    "16) Write a program to check if a year is leap year or not.\n",
    "\n",
    "If a year is divisible by 4 then it is leap year but if the year is century year like 2000, 1900, 2100 then it must be divisible by 400."
   ]
  },
  {
   "cell_type": "code",
   "execution_count": 25,
   "metadata": {
    "id": "QUL_YUX3MVj7"
   },
   "outputs": [
    {
     "name": "stdout",
     "output_type": "stream",
     "text": [
      "enter any year2024\n",
      "It's a leap year!\n"
     ]
    }
   ],
   "source": [
    "#Type your code here\n",
    "year = int(input(\"enter any year\"))\n",
    "\n",
    "if ((year % 400) ==0):\n",
    "    print (\"It's a leap year!\")\n",
    "elif ((year % 4) ==0):\n",
    "    print (\"It's a leap year!\")\n",
    "else:\n",
    "    print (\"It isn't a leap year!\")\n",
    "    "
   ]
  },
  {
   "cell_type": "raw",
   "metadata": {
    "id": "CCNg4yDDMVj8"
   },
   "source": [
    "17) Ask user to enter age, gender ( M or F ), marital status ( Y or N ) and then using following rules print their place of service.\n",
    "\n",
    "if employee is female, then she will work only in urban areas.\n",
    "\n",
    "if employee is a male and age is in between 20 to 40 then he may work in anywhere\n",
    "\n",
    "if employee is male and age is in between 40 t0 60 then he will work in urban areas only.\n",
    "\n",
    "And any other input of age should print \"ERROR\""
   ]
  },
  {
   "cell_type": "code",
   "execution_count": 31,
   "metadata": {
    "id": "RDWMB0CZMVj8"
   },
   "outputs": [
    {
     "name": "stdout",
     "output_type": "stream",
     "text": [
      "enter your age: 25\n",
      "enter your gender (M/F): f\n",
      "are you married(Y/N): n\n",
      "you may work only in urban areas\n"
     ]
    }
   ],
   "source": [
    "#Type your code here\n",
    "age = int(input(\"enter your age: \"))\n",
    "gender = input (\"enter your gender (M/F): \")\n",
    "m_stat= input (\"are you married(Y/N): \")\n",
    "\n",
    "if gender== \"F\" or gender==\"f\":\n",
    "    print(\"you may work only in urban areas\")\n",
    "elif gender==\"M\" or gender== \"m\":\n",
    "    if (age >20 and age <40):\n",
    "        print (\"you can work anywhere\")\n",
    "    elif (age >40 and age <60):\n",
    "        print (\"you may work only in urban areas\")\n",
    "    else:\n",
    "        print (\"ERROR!\")\n",
    "else:\n",
    "        print (\"ERROR!\")\n",
    "\n",
    "\n",
    "       "
   ]
  },
  {
   "cell_type": "code",
   "execution_count": null,
   "metadata": {
    "id": "-TG-QI8TMVj9"
   },
   "outputs": [],
   "source": []
  },
  {
   "cell_type": "code",
   "execution_count": null,
   "metadata": {},
   "outputs": [],
   "source": []
  }
 ],
 "metadata": {
  "colab": {
   "name": "If then Else &Elif Practice Task .ipynb",
   "provenance": []
  },
  "kernelspec": {
   "display_name": "Python 3 (ipykernel)",
   "language": "python",
   "name": "python3"
  },
  "language_info": {
   "codemirror_mode": {
    "name": "ipython",
    "version": 3
   },
   "file_extension": ".py",
   "mimetype": "text/x-python",
   "name": "python",
   "nbconvert_exporter": "python",
   "pygments_lexer": "ipython3",
   "version": "3.9.12"
  }
 },
 "nbformat": 4,
 "nbformat_minor": 1
}
